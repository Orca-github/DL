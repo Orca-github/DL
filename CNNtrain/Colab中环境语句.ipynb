{
 "cells": [
  {
   "cell_type": "markdown",
   "metadata": {},
   "source": [
    "### 连接google drive"
   ]
  },
  {
   "cell_type": "code",
   "execution_count": null,
   "metadata": {},
   "outputs": [],
   "source": [
    "from google.colab import drive\n",
    "drive.mount('/content/drive')"
   ]
  },
  {
   "cell_type": "markdown",
   "metadata": {},
   "source": [
    "### 修改当前位置"
   ]
  },
  {
   "cell_type": "code",
   "execution_count": null,
   "metadata": {},
   "outputs": [],
   "source": [
    "import os\n",
    "#os.chdir(\"drive/MyDrive/A_jupyternotebook_space/CNNtrain/AlexNet\")\n",
    "!pwd#查看当前路径"
   ]
  },
  {
   "cell_type": "markdown",
   "metadata": {},
   "source": [
    "### 安装块运行时间记录工具"
   ]
  },
  {
   "cell_type": "code",
   "execution_count": null,
   "metadata": {},
   "outputs": [],
   "source": [
    "# !pip install ipython-autotime\n",
    "# %load_ext autotime"
   ]
  },
  {
   "cell_type": "markdown",
   "metadata": {},
   "source": [
    "### 查看配置信息"
   ]
  },
  {
   "cell_type": "code",
   "execution_count": null,
   "metadata": {},
   "outputs": [],
   "source": [
    "print(\"============查看GPU信息================\")\n",
    "# 查看GPU信息\n",
    "!/opt/bin/nvidia-smi\n",
    "print(\"==============查看pytorch版本==============\")\n",
    "# 查看pytorch版本\n",
    "import torch\n",
    "print(torch.__version__)\n",
    "print(\"============查看虚拟机硬盘容量================\")\n",
    "# 查看虚拟机硬盘容量\n",
    "!df -lh\n",
    "print(\"============查看cpu配置================\")\n",
    "# 查看cpu配置\n",
    "!cat /proc/cpuinfo | grep model\\ name\n",
    "print(\"=============查看内存容量===============\")\n",
    "# 查看内存容量\n",
    "!cat /proc/meminfo | grep MemTotal\n"
   ]
  }
 ],
 "metadata": {
  "language_info": {
   "name": "python"
  },
  "orig_nbformat": 4
 },
 "nbformat": 4,
 "nbformat_minor": 2
}
